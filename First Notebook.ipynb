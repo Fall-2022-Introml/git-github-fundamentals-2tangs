{
 "cells": [
  {
   "cell_type": "code",
   "execution_count": 5,
   "id": "5a88c42d",
   "metadata": {},
   "outputs": [
    {
     "name": "stdout",
     "output_type": "stream",
     "text": [
      "super cool\n"
     ]
    }
   ],
   "source": [
    "edwin='super cool';\n",
    "print(edwin)"
   ]
  },
  {
   "cell_type": "code",
   "execution_count": 7,
   "id": "333c03ac",
   "metadata": {},
   "outputs": [
    {
     "name": "stdout",
     "output_type": "stream",
     "text": [
      "10\n"
     ]
    }
   ],
   "source": [
    "adrian=5+5\n",
    "print(adrian)"
   ]
  },
  {
   "cell_type": "code",
   "execution_count": null,
   "id": "8b30c13c",
   "metadata": {},
   "outputs": [],
   "source": []
  }
 ],
 "metadata": {
  "kernelspec": {
   "display_name": "Python 3 (ipykernel)",
   "language": "python",
   "name": "python3"
  },
  "language_info": {
   "codemirror_mode": {
    "name": "ipython",
    "version": 3
   },
   "file_extension": ".py",
   "mimetype": "text/x-python",
   "name": "python",
   "nbconvert_exporter": "python",
   "pygments_lexer": "ipython3",
   "version": "3.9.12"
  }
 },
 "nbformat": 4,
 "nbformat_minor": 5
}
